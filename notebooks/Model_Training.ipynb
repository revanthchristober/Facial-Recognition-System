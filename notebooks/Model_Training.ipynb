{
 "cells": [
  {
   "cell_type": "markdown",
   "metadata": {},
   "source": [
    "# **Training a Facial Recognition Model Using the LFW Dataset**"
   ]
  },
  {
   "cell_type": "markdown",
   "metadata": {},
   "source": [
    "#### **Description**\n",
    "\n",
    "This notebook demonstrates the process of training a facial recognition model using the Labeled Faces in the Wild (LFW) dataset. It includes detailed steps for downloading and preparing the dataset, extracting face encodings, training a Support Vector Classifier (SVC) model, and evaluating the model's performance. The notebook covers:"
   ]
  },
  {
   "cell_type": "markdown",
   "metadata": {},
   "source": [
    "1. **Downloading and Preparing the LFW Dataset**: Using `fetch_lfw_people` from the `sklearn.datasets` module to download and resize the dataset."
   ]
  },
  {
   "cell_type": "code",
   "execution_count": null,
   "metadata": {},
   "outputs": [],
   "source": [
    "# This notebook trains a facial recognition model using the LFW dataset.\n",
    "# It includes steps for downloading the dataset, extracting face encodings, and training a model.\n",
    "\n",
    "import numpy as np\n",
    "import pandas as pd\n",
    "import os\n",
    "import cv2\n",
    "import dlib\n",
    "import face_recognition\n",
    "from sklearn.model_selection import train_test_split\n",
    "from sklearn.svm import SVC\n",
    "from sklearn.metrics import classification_report, confusion_matrix\n",
    "import joblib\n",
    "import seaborn as sns\n",
    "import matplotlib.pyplot as plt\n",
    "from sklearn.datasets import fetch_lfw_people\n",
    "\n",
    "# PART 1: Download and Prepare the LFW Dataset\n",
    "print(\"PART 1: Download and Prepare the LFW Dataset\")\n",
    "\n",
    "# Download the LFW dataset\n",
    "lfw_people = fetch_lfw_people(min_faces_per_person=20, resize=0.5)\n",
    "images = lfw_people.images\n",
    "labels = lfw_people.target\n",
    "target_names = lfw_people.target_names"
   ]
  },
  {
   "cell_type": "markdown",
   "metadata": {},
   "source": [
    "2. **Extracting Face Encodings**: Converting images to RGB and extracting face encodings using the `face_recognition` library."
   ]
  },
  {
   "cell_type": "code",
   "execution_count": null,
   "metadata": {},
   "outputs": [],
   "source": [
    "# PART 2: Extract Face Encodings\n",
    "print(\"\\nPART 2: Extract Face Encodings\")\n",
    "\n",
    "def extract_face_encodings_from_lfw(images):\n",
    "    \"\"\"\n",
    "    Extract face encodings from LFW images.\n",
    "    \n",
    "    Parameters:\n",
    "    - images (numpy array): Array of images.\n",
    "    \n",
    "    Returns:\n",
    "    - face_encodings (list of numpy arrays): List of face encodings.\n",
    "    \"\"\"\n",
    "    face_encodings = []\n",
    "    for image in images:\n",
    "        rgb_image = cv2.cvtColor(image, cv2.COLOR_GRAY2RGB)\n",
    "        face_encoding = face_recognition.face_encodings(rgb_image)\n",
    "        if face_encoding:\n",
    "            face_encodings.append(face_encoding[0])\n",
    "    return np.array(face_encodings)\n",
    "\n",
    "# Extract face encodings from LFW images\n",
    "face_encodings = extract_face_encodings_from_lfw(images)\n",
    "\n",
    "# Save the face encodings and labels\n",
    "np.save('../data/processed/face_encodings.npy', face_encodings)\n",
    "np.save('../data/processed/labels.npy', labels)"
   ]
  },
  {
   "cell_type": "markdown",
   "metadata": {},
   "source": [
    "3. **Loading and Preparing Data**: Loading the extracted face encodings and labels, and splitting them into training and testing sets."
   ]
  },
  {
   "cell_type": "code",
   "execution_count": null,
   "metadata": {},
   "outputs": [],
   "source": [
    "# PART 3: Load and Prepare Data\n",
    "print(\"\\nPART 3: Load and Prepare Data\")\n",
    "\n",
    "# Load face encodings and labels\n",
    "face_encodings = np.load('../data/processed/face_encodings.npy')\n",
    "labels = np.load('../data/processed/labels.npy')\n",
    "\n",
    "# Check data shapes and types\n",
    "print(f\"Face encodings shape: {face_encodings.shape}\")\n",
    "print(f\"Labels shape: {labels.shape}\")\n",
    "\n",
    "# Split the data into training and testing sets\n",
    "X_train, X_test, y_train, y_test = train_test_split(face_encodings, labels, test_size=0.2, random_state=42)\n"
   ]
  },
  {
   "cell_type": "markdown",
   "metadata": {},
   "source": [
    "4. **Training the Model**: Initializing and training an SVC model on the face encodings and labels, and saving the trained model."
   ]
  },
  {
   "cell_type": "code",
   "execution_count": null,
   "metadata": {},
   "outputs": [],
   "source": [
    "# PART 4: Train the Model\n",
    "print(\"\\nPART 4: Train the Model\")\n",
    "\n",
    "# Initialize and train the model\n",
    "model = SVC(kernel='linear', probability=True)\n",
    "model.fit(X_train, y_train)\n",
    "\n",
    "# Save the trained model\n",
    "model_file = '../data/models/face_recognition_model.pkl'\n",
    "joblib.dump(model, model_file)\n",
    "print(f\"Model saved to {model_file}\")\n"
   ]
  },
  {
   "cell_type": "markdown",
   "metadata": {},
   "source": [
    "5. **Evaluating the Model**: Predicting labels for the test set, evaluating the model's performance using a confusion matrix and classification report, and visualizing the confusion matrix using Seaborn."
   ]
  },
  {
   "cell_type": "code",
   "execution_count": null,
   "metadata": {},
   "outputs": [],
   "source": [
    "\n",
    "# PART 5: Evaluate the Model\n",
    "print(\"\\nPART 5: Evaluate the Model\")\n",
    "\n",
    "# Predict on the test set\n",
    "y_pred = model.predict(X_test)\n",
    "\n",
    "# Evaluate the model\n",
    "conf_matrix = confusion_matrix(y_test, y_pred)\n",
    "class_report = classification_report(y_test, y_pred, target_names=target_names)\n",
    "\n",
    "print(\"Confusion Matrix:\")\n",
    "print(conf_matrix)\n",
    "\n",
    "print(\"\\nClassification Report:\")\n",
    "print(class_report)\n",
    "\n",
    "# Visualize confusion matrix\n",
    "plt.figure(figsize=(10, 7))\n",
    "sns.heatmap(conf_matrix, annot=True, fmt='d', cmap='Blues', xticklabels=target_names, yticklabels=target_names)\n",
    "plt.title('Confusion Matrix')\n",
    "plt.xlabel('Predicted Label')\n",
    "plt.ylabel('True Label')\n",
    "plt.show()"
   ]
  }
 ],
 "metadata": {
  "kernelspec": {
   "display_name": "Python 3",
   "language": "python",
   "name": "python3"
  },
  "language_info": {
   "codemirror_mode": {
    "name": "ipython",
    "version": 3
   },
   "file_extension": ".py",
   "mimetype": "text/x-python",
   "name": "python",
   "nbconvert_exporter": "python",
   "pygments_lexer": "ipython3",
   "version": "3.11.5"
  }
 },
 "nbformat": 4,
 "nbformat_minor": 2
}
